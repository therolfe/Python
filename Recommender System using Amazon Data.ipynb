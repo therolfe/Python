{
 "cells": [
  {
   "cell_type": "markdown",
   "metadata": {},
   "source": [
    "# Recommender System Amazon Data"
   ]
  },
  {
   "cell_type": "markdown",
   "metadata": {},
   "source": [
    "With this notebook i intend to demostrate my abilites to create a recommender system using data that I sourced from the web. I chose a data set from the Amazon website for Musical Instruments reviews. <br><br>The data can be found at this website <br>\n",
    "<a href='http://jmcauley.ucsd.edu/data/amazon/'>http://jmcauley.ucsd.edu/data/amazon/</a><br>\n",
    "<br> I decided to focus on a modest data set of 10,261 reviews reviews as I felt this would be a good nunmber to demostrate a recommender system with.<br>The Idea of a Recommender system is to recommend products that you might wish to purchase. This is based on the buying patterns of other users. Basically - the person who bought this also bought this - \"We think you might like it!\""
   ]
  },
  {
   "cell_type": "markdown",
   "metadata": {},
   "source": [
    "<h2>Importing the Data from the site</h2>"
   ]
  },
  {
   "cell_type": "markdown",
   "metadata": {},
   "source": [
    "We downloaded the following file which contains the reviews.<br><ah ref = \"http://snap.stanford.edu/data/amazon/productGraph/categoryFiles/reviews_Musical_Instruments_5.json.gz\">http://snap.stanford.edu/data/amazon/productGraph/categoryFiles/reviews_Musical_Instruments_5.json.gz</a>\n",
    "<br>This file is a Gzip file and can be used to compress data. I downloaded this file to a local folder and will extract it using Pandas and the Gzip package\n",
    "\n"
   ]
  },
  {
   "cell_type": "code",
   "execution_count": 35,
   "metadata": {
    "collapsed": false
   },
   "outputs": [],
   "source": [
    "#code here sourced from http://jmcauley.ucsd.edu/data/amazon/\n",
    "import pandas as pd\n",
    "import gzip\n",
    "\n",
    "location = 'C:\\\\Users\\\\Glandore\\\\Desktop\\\\Github\\\\Amazon Data\\\\reviews_Musical_Instruments_5.json.gz'\n",
    "\n",
    "def parse(path):\n",
    "  g = gzip.open(path, 'rb')\n",
    "  for l in g:\n",
    "    yield eval(l)\n",
    "\n",
    "def getDF(path):\n",
    "  i = 0\n",
    "  df = {}\n",
    "  for d in parse(path):\n",
    "    df[i] = d\n",
    "    i += 1\n",
    "  return pd.DataFrame.from_dict(df, orient='index')\n",
    "\n",
    "df = getDF(location)"
   ]
  },
  {
   "cell_type": "markdown",
   "metadata": {},
   "source": [
    "Now we have our data set. Lets examine the first few rows using the head command."
   ]
  },
  {
   "cell_type": "code",
   "execution_count": 36,
   "metadata": {
    "collapsed": false
   },
   "outputs": [
    {
     "data": {
      "text/html": [
       "<div>\n",
       "<table border=\"1\" class=\"dataframe\">\n",
       "  <thead>\n",
       "    <tr style=\"text-align: right;\">\n",
       "      <th></th>\n",
       "      <th>reviewerID</th>\n",
       "      <th>asin</th>\n",
       "      <th>reviewerName</th>\n",
       "      <th>helpful</th>\n",
       "      <th>unixReviewTime</th>\n",
       "      <th>reviewText</th>\n",
       "      <th>overall</th>\n",
       "      <th>reviewTime</th>\n",
       "      <th>summary</th>\n",
       "    </tr>\n",
       "  </thead>\n",
       "  <tbody>\n",
       "    <tr>\n",
       "      <th>0</th>\n",
       "      <td>A2IBPI20UZIR0U</td>\n",
       "      <td>1384719342</td>\n",
       "      <td>cassandra tu \"Yeah, well, that's just like, u...</td>\n",
       "      <td>[0, 0]</td>\n",
       "      <td>1393545600</td>\n",
       "      <td>Not much to write about here, but it does exac...</td>\n",
       "      <td>5.0</td>\n",
       "      <td>02 28, 2014</td>\n",
       "      <td>good</td>\n",
       "    </tr>\n",
       "    <tr>\n",
       "      <th>1</th>\n",
       "      <td>A14VAT5EAX3D9S</td>\n",
       "      <td>1384719342</td>\n",
       "      <td>Jake</td>\n",
       "      <td>[13, 14]</td>\n",
       "      <td>1363392000</td>\n",
       "      <td>The product does exactly as it should and is q...</td>\n",
       "      <td>5.0</td>\n",
       "      <td>03 16, 2013</td>\n",
       "      <td>Jake</td>\n",
       "    </tr>\n",
       "    <tr>\n",
       "      <th>2</th>\n",
       "      <td>A195EZSQDW3E21</td>\n",
       "      <td>1384719342</td>\n",
       "      <td>Rick Bennette \"Rick Bennette\"</td>\n",
       "      <td>[1, 1]</td>\n",
       "      <td>1377648000</td>\n",
       "      <td>The primary job of this device is to block the...</td>\n",
       "      <td>5.0</td>\n",
       "      <td>08 28, 2013</td>\n",
       "      <td>It Does The Job Well</td>\n",
       "    </tr>\n",
       "    <tr>\n",
       "      <th>3</th>\n",
       "      <td>A2C00NNG1ZQQG2</td>\n",
       "      <td>1384719342</td>\n",
       "      <td>RustyBill \"Sunday Rocker\"</td>\n",
       "      <td>[0, 0]</td>\n",
       "      <td>1392336000</td>\n",
       "      <td>Nice windscreen protects my MXL mic and preven...</td>\n",
       "      <td>5.0</td>\n",
       "      <td>02 14, 2014</td>\n",
       "      <td>GOOD WINDSCREEN FOR THE MONEY</td>\n",
       "    </tr>\n",
       "  </tbody>\n",
       "</table>\n",
       "</div>"
      ],
      "text/plain": [
       "       reviewerID        asin  \\\n",
       "0  A2IBPI20UZIR0U  1384719342   \n",
       "1  A14VAT5EAX3D9S  1384719342   \n",
       "2  A195EZSQDW3E21  1384719342   \n",
       "3  A2C00NNG1ZQQG2  1384719342   \n",
       "\n",
       "                                       reviewerName   helpful  unixReviewTime  \\\n",
       "0  cassandra tu \"Yeah, well, that's just like, u...    [0, 0]      1393545600   \n",
       "1                                              Jake  [13, 14]      1363392000   \n",
       "2                     Rick Bennette \"Rick Bennette\"    [1, 1]      1377648000   \n",
       "3                         RustyBill \"Sunday Rocker\"    [0, 0]      1392336000   \n",
       "\n",
       "                                          reviewText  overall   reviewTime  \\\n",
       "0  Not much to write about here, but it does exac...      5.0  02 28, 2014   \n",
       "1  The product does exactly as it should and is q...      5.0  03 16, 2013   \n",
       "2  The primary job of this device is to block the...      5.0  08 28, 2013   \n",
       "3  Nice windscreen protects my MXL mic and preven...      5.0  02 14, 2014   \n",
       "\n",
       "                         summary  \n",
       "0                           good  \n",
       "1                           Jake  \n",
       "2           It Does The Job Well  \n",
       "3  GOOD WINDSCREEN FOR THE MONEY  "
      ]
     },
     "execution_count": 36,
     "metadata": {},
     "output_type": "execute_result"
    }
   ],
   "source": [
    "df.head(4)"
   ]
  },
  {
   "cell_type": "markdown",
   "metadata": {},
   "source": [
    "<H2>Explority Data Analysis</H2><br>When working with a large data set it is good to get a feel of the data by exploring it using python. The data set fields are.\n",
    "<br>\n",
    "<b>ReviewerID</b> <br>\n",
    "<b>Asin</b> <br>\n",
    "<b>ReviewerName</b> <br>\n",
    "<b>Helpful</b> <br>\n",
    "<b>UnixReviewTime</b> <br>\n",
    "<b>ReviewText</b>\n",
    "<br><b>Overall</b><br>\n",
    "<b>ReviewTime</b> <br>\n",
    "<b>Summary</b> <br>\n",
    "\n",
    "\n",
    "\n",
    "## Visualization Imports"
   ]
  },
  {
   "cell_type": "code",
   "execution_count": 37,
   "metadata": {
    "collapsed": true
   },
   "outputs": [],
   "source": [
    "import matplotlib.pyplot as plt\n",
    "import seaborn as sns\n",
    "sns.set_style('white')\n",
    "%matplotlib inline"
   ]
  },
  {
   "cell_type": "markdown",
   "metadata": {},
   "source": [
    "Let's create a ratings dataframe with average rating and number of ratings:"
   ]
  },
  {
   "cell_type": "code",
   "execution_count": 38,
   "metadata": {
    "collapsed": false
   },
   "outputs": [
    {
     "data": {
      "text/plain": [
       "asin\n",
       "1384719342    5.0\n",
       "B0033P1O6S    5.0\n",
       "B0009EQOES    5.0\n",
       "B001V5K2S8    5.0\n",
       "B001W99HE8    5.0\n",
       "Name: overall, dtype: float64"
      ]
     },
     "execution_count": 38,
     "metadata": {},
     "output_type": "execute_result"
    }
   ],
   "source": [
    "df.groupby('asin')['overall'].mean().sort_values(ascending=False).head()"
   ]
  },
  {
   "cell_type": "markdown",
   "metadata": {},
   "source": [
    "Now we create a query to show the highest number of ratings."
   ]
  },
  {
   "cell_type": "code",
   "execution_count": 39,
   "metadata": {
    "collapsed": false
   },
   "outputs": [
    {
     "data": {
      "text/plain": [
       "asin\n",
       "B003VWJ2K8    163\n",
       "B0002E1G5C    143\n",
       "B0002F7K7Y    116\n",
       "B003VWKPHC    114\n",
       "B0002H0A3S     93\n",
       "Name: overall, dtype: int64"
      ]
     },
     "execution_count": 39,
     "metadata": {},
     "output_type": "execute_result"
    }
   ],
   "source": [
    "df.groupby('asin')['overall'].count().sort_values(ascending=False).head()"
   ]
  },
  {
   "cell_type": "markdown",
   "metadata": {
    "collapsed": true
   },
   "source": [
    "Now we look at the average of the ratings."
   ]
  },
  {
   "cell_type": "code",
   "execution_count": 40,
   "metadata": {
    "collapsed": false
   },
   "outputs": [
    {
     "data": {
      "text/html": [
       "<div>\n",
       "<table border=\"1\" class=\"dataframe\">\n",
       "  <thead>\n",
       "    <tr style=\"text-align: right;\">\n",
       "      <th></th>\n",
       "      <th>overall</th>\n",
       "    </tr>\n",
       "    <tr>\n",
       "      <th>asin</th>\n",
       "      <th></th>\n",
       "    </tr>\n",
       "  </thead>\n",
       "  <tbody>\n",
       "    <tr>\n",
       "      <th>1384719342</th>\n",
       "      <td>5.000000</td>\n",
       "    </tr>\n",
       "    <tr>\n",
       "      <th>B00004Y2UT</th>\n",
       "      <td>4.666667</td>\n",
       "    </tr>\n",
       "    <tr>\n",
       "      <th>B00005ML71</th>\n",
       "      <td>3.800000</td>\n",
       "    </tr>\n",
       "    <tr>\n",
       "      <th>B000068NSX</th>\n",
       "      <td>4.571429</td>\n",
       "    </tr>\n",
       "    <tr>\n",
       "      <th>B000068NTU</th>\n",
       "      <td>4.800000</td>\n",
       "    </tr>\n",
       "  </tbody>\n",
       "</table>\n",
       "</div>"
      ],
      "text/plain": [
       "             overall\n",
       "asin                \n",
       "1384719342  5.000000\n",
       "B00004Y2UT  4.666667\n",
       "B00005ML71  3.800000\n",
       "B000068NSX  4.571429\n",
       "B000068NTU  4.800000"
      ]
     },
     "execution_count": 40,
     "metadata": {},
     "output_type": "execute_result"
    }
   ],
   "source": [
    "ratings = pd.DataFrame(df.groupby('asin')['overall'].mean())\n",
    "ratings.head()"
   ]
  },
  {
   "cell_type": "markdown",
   "metadata": {},
   "source": [
    "Here we now need to create a data frame that shows the ratings and the number of ratings per product."
   ]
  },
  {
   "cell_type": "code",
   "execution_count": 41,
   "metadata": {
    "collapsed": false
   },
   "outputs": [
    {
     "data": {
      "text/html": [
       "<div>\n",
       "<table border=\"1\" class=\"dataframe\">\n",
       "  <thead>\n",
       "    <tr style=\"text-align: right;\">\n",
       "      <th></th>\n",
       "      <th>overall</th>\n",
       "      <th>num of ratings</th>\n",
       "    </tr>\n",
       "    <tr>\n",
       "      <th>asin</th>\n",
       "      <th></th>\n",
       "      <th></th>\n",
       "    </tr>\n",
       "  </thead>\n",
       "  <tbody>\n",
       "    <tr>\n",
       "      <th>1384719342</th>\n",
       "      <td>5.000000</td>\n",
       "      <td>5</td>\n",
       "    </tr>\n",
       "    <tr>\n",
       "      <th>B00004Y2UT</th>\n",
       "      <td>4.666667</td>\n",
       "      <td>6</td>\n",
       "    </tr>\n",
       "    <tr>\n",
       "      <th>B00005ML71</th>\n",
       "      <td>3.800000</td>\n",
       "      <td>5</td>\n",
       "    </tr>\n",
       "    <tr>\n",
       "      <th>B000068NSX</th>\n",
       "      <td>4.571429</td>\n",
       "      <td>7</td>\n",
       "    </tr>\n",
       "    <tr>\n",
       "      <th>B000068NTU</th>\n",
       "      <td>4.800000</td>\n",
       "      <td>5</td>\n",
       "    </tr>\n",
       "  </tbody>\n",
       "</table>\n",
       "</div>"
      ],
      "text/plain": [
       "             overall  num of ratings\n",
       "asin                                \n",
       "1384719342  5.000000               5\n",
       "B00004Y2UT  4.666667               6\n",
       "B00005ML71  3.800000               5\n",
       "B000068NSX  4.571429               7\n",
       "B000068NTU  4.800000               5"
      ]
     },
     "execution_count": 41,
     "metadata": {},
     "output_type": "execute_result"
    }
   ],
   "source": [
    "ratings['num of ratings'] = pd.DataFrame(df.groupby('asin')['overall'].count())\n",
    "ratings.head()"
   ]
  },
  {
   "cell_type": "markdown",
   "metadata": {},
   "source": [
    "\n",
    "## Now a few histograms\n",
    "<br>Firstly lets look at the product with the highest amount of ratings."
   ]
  },
  {
   "cell_type": "code",
   "execution_count": 42,
   "metadata": {
    "collapsed": false
   },
   "outputs": [
    {
     "data": {
      "text/plain": [
       "<matplotlib.axes._subplots.AxesSubplot at 0x180e7450>"
      ]
     },
     "execution_count": 42,
     "metadata": {},
     "output_type": "execute_result"
    },
    {
     "data": {
      "image/png": "[encoded data removed]",
      "text/plain": [
       "<matplotlib.figure.Figure at 0xa071090>"
      ]
     },
     "metadata": {},
     "output_type": "display_data"
    }
   ],
   "source": [
    "plt.figure(figsize=(15,4))\n",
    "ratings['num of ratings'].hist(bins=50)"
   ]
  },
  {
   "cell_type": "markdown",
   "metadata": {},
   "source": [
    "Now lets look at the overall rating mark - which was the most popular"
   ]
  },
  {
   "cell_type": "code",
   "execution_count": 54,
   "metadata": {
    "collapsed": false
   },
   "outputs": [
    {
     "data": {
      "text/plain": [
       "<matplotlib.axes._subplots.AxesSubplot at 0x12ee18d0>"
      ]
     },
     "execution_count": 54,
     "metadata": {},
     "output_type": "execute_result"
    },
    {
     "data": {
      "image/png": "[encoded data removed]",
      "text/plain": [
       "<matplotlib.figure.Figure at 0x17fe23d0>"
      ]
     },
     "metadata": {},
     "output_type": "display_data"
    }
   ],
   "source": [
    "plt.figure(figsize=(15,4))\n",
    "ratings['overall'].hist(bins=70)"
   ]
  },
  {
   "cell_type": "markdown",
   "metadata": {},
   "source": [
    "We can then use a joint plot to show the distribution of count of ratings versus overall score."
   ]
  },
  {
   "cell_type": "code",
   "execution_count": 55,
   "metadata": {
    "collapsed": false
   },
   "outputs": [
    {
     "data": {
      "text/plain": [
       "<seaborn.axisgrid.JointGrid at 0xae359d0>"
      ]
     },
     "execution_count": 55,
     "metadata": {},
     "output_type": "execute_result"
    },
    {
     "data": {
      "image/png": "[encoded data removed]",
      "text/plain": [
       "<matplotlib.figure.Figure at 0xad9b890>"
      ]
     },
     "metadata": {},
     "output_type": "display_data"
    }
   ],
   "source": [
    "sns.jointplot(x='overall',y='num of ratings',size=15,data=ratings,alpha=0.5)"
   ]
  },
  {
   "cell_type": "markdown",
   "metadata": {},
   "source": [
    "<h2>Recommending Similar Amazon Products</h2> <br><br>\n",
    "Now lets get into the real stuff. We need to create a model that will show us similar products that we can then recommend to a user that bought a product. <br> We can do this by creating a matrix that shows the reviewerID on one side and then the products bought going across. This will be a very large table and will have a lot of Na values as there are a lot of products."
   ]
  },
  {
   "cell_type": "markdown",
   "metadata": {
    "collapsed": true
   },
   "source": [
    "We do this by using the Pandas Pivot_table function, stating that the reviewerID as the index value. "
   ]
  },
  {
   "cell_type": "code",
   "execution_count": 58,
   "metadata": {
    "collapsed": false,
    "scrolled": true
   },
   "outputs": [
    {
     "data": {
      "text/html": [
       "<div>\n",
       "<table border=\"1\" class=\"dataframe\">\n",
       "  <thead>\n",
       "    <tr style=\"text-align: right;\">\n",
       "      <th>asin</th>\n",
       "      <th>1384719342</th>\n",
       "      <th>B00004Y2UT</th>\n",
       "      <th>B00005ML71</th>\n",
       "      <th>B000068NSX</th>\n",
       "      <th>B000068NTU</th>\n",
       "      <th>B000068NVI</th>\n",
       "      <th>B000068NW5</th>\n",
       "      <th>B000068NZC</th>\n",
       "      <th>B000068NZG</th>\n",
       "      <th>B000068O1N</th>\n",
       "      <th>...</th>\n",
       "      <th>B00EPWAQS0</th>\n",
       "      <th>B00EQDITGO</th>\n",
       "      <th>B00F2PKRJW</th>\n",
       "      <th>B00FXKIG5I</th>\n",
       "      <th>B00GTSM8FW</th>\n",
       "      <th>B00H02C9TG</th>\n",
       "      <th>B00HFRXACG</th>\n",
       "      <th>B00IZCSW3M</th>\n",
       "      <th>B00J4TBMVO</th>\n",
       "      <th>B00JBIVXGC</th>\n",
       "    </tr>\n",
       "    <tr>\n",
       "      <th>reviewerID</th>\n",
       "      <th></th>\n",
       "      <th></th>\n",
       "      <th></th>\n",
       "      <th></th>\n",
       "      <th></th>\n",
       "      <th></th>\n",
       "      <th></th>\n",
       "      <th></th>\n",
       "      <th></th>\n",
       "      <th></th>\n",
       "      <th></th>\n",
       "      <th></th>\n",
       "      <th></th>\n",
       "      <th></th>\n",
       "      <th></th>\n",
       "      <th></th>\n",
       "      <th></th>\n",
       "      <th></th>\n",
       "      <th></th>\n",
       "      <th></th>\n",
       "      <th></th>\n",
       "    </tr>\n",
       "  </thead>\n",
       "  <tbody>\n",
       "    <tr>\n",
       "      <th>A00625243BI8W1SSZNLMD</th>\n",
       "      <td>NaN</td>\n",
       "      <td>NaN</td>\n",
       "      <td>NaN</td>\n",
       "      <td>NaN</td>\n",
       "      <td>NaN</td>\n",
       "      <td>NaN</td>\n",
       "      <td>NaN</td>\n",
       "      <td>NaN</td>\n",
       "      <td>NaN</td>\n",
       "      <td>NaN</td>\n",
       "      <td>...</td>\n",
       "      <td>NaN</td>\n",
       "      <td>NaN</td>\n",
       "      <td>NaN</td>\n",
       "      <td>NaN</td>\n",
       "      <td>NaN</td>\n",
       "      <td>NaN</td>\n",
       "      <td>NaN</td>\n",
       "      <td>NaN</td>\n",
       "      <td>NaN</td>\n",
       "      <td>NaN</td>\n",
       "    </tr>\n",
       "    <tr>\n",
       "      <th>A10044ECXDUVKS</th>\n",
       "      <td>NaN</td>\n",
       "      <td>NaN</td>\n",
       "      <td>NaN</td>\n",
       "      <td>NaN</td>\n",
       "      <td>NaN</td>\n",
       "      <td>NaN</td>\n",
       "      <td>NaN</td>\n",
       "      <td>NaN</td>\n",
       "      <td>NaN</td>\n",
       "      <td>NaN</td>\n",
       "      <td>...</td>\n",
       "      <td>NaN</td>\n",
       "      <td>NaN</td>\n",
       "      <td>NaN</td>\n",
       "      <td>NaN</td>\n",
       "      <td>NaN</td>\n",
       "      <td>NaN</td>\n",
       "      <td>NaN</td>\n",
       "      <td>NaN</td>\n",
       "      <td>NaN</td>\n",
       "      <td>NaN</td>\n",
       "    </tr>\n",
       "    <tr>\n",
       "      <th>A102MU6ZC9H1N6</th>\n",
       "      <td>NaN</td>\n",
       "      <td>NaN</td>\n",
       "      <td>NaN</td>\n",
       "      <td>NaN</td>\n",
       "      <td>NaN</td>\n",
       "      <td>NaN</td>\n",
       "      <td>NaN</td>\n",
       "      <td>NaN</td>\n",
       "      <td>NaN</td>\n",
       "      <td>NaN</td>\n",
       "      <td>...</td>\n",
       "      <td>NaN</td>\n",
       "      <td>NaN</td>\n",
       "      <td>NaN</td>\n",
       "      <td>NaN</td>\n",
       "      <td>NaN</td>\n",
       "      <td>NaN</td>\n",
       "      <td>NaN</td>\n",
       "      <td>NaN</td>\n",
       "      <td>NaN</td>\n",
       "      <td>NaN</td>\n",
       "    </tr>\n",
       "    <tr>\n",
       "      <th>A109JTUZXO61UY</th>\n",
       "      <td>NaN</td>\n",
       "      <td>NaN</td>\n",
       "      <td>NaN</td>\n",
       "      <td>NaN</td>\n",
       "      <td>NaN</td>\n",
       "      <td>NaN</td>\n",
       "      <td>NaN</td>\n",
       "      <td>NaN</td>\n",
       "      <td>NaN</td>\n",
       "      <td>NaN</td>\n",
       "      <td>...</td>\n",
       "      <td>NaN</td>\n",
       "      <td>NaN</td>\n",
       "      <td>NaN</td>\n",
       "      <td>NaN</td>\n",
       "      <td>NaN</td>\n",
       "      <td>NaN</td>\n",
       "      <td>NaN</td>\n",
       "      <td>NaN</td>\n",
       "      <td>NaN</td>\n",
       "      <td>NaN</td>\n",
       "    </tr>\n",
       "    <tr>\n",
       "      <th>A109ME7C09HM2M</th>\n",
       "      <td>NaN</td>\n",
       "      <td>NaN</td>\n",
       "      <td>NaN</td>\n",
       "      <td>NaN</td>\n",
       "      <td>NaN</td>\n",
       "      <td>NaN</td>\n",
       "      <td>NaN</td>\n",
       "      <td>NaN</td>\n",
       "      <td>NaN</td>\n",
       "      <td>NaN</td>\n",
       "      <td>...</td>\n",
       "      <td>NaN</td>\n",
       "      <td>NaN</td>\n",
       "      <td>NaN</td>\n",
       "      <td>NaN</td>\n",
       "      <td>NaN</td>\n",
       "      <td>NaN</td>\n",
       "      <td>NaN</td>\n",
       "      <td>NaN</td>\n",
       "      <td>NaN</td>\n",
       "      <td>NaN</td>\n",
       "    </tr>\n",
       "  </tbody>\n",
       "</table>\n",
       "<p>5 rows × 900 columns</p>\n",
       "</div>"
      ],
      "text/plain": [
       "asin                   1384719342  B00004Y2UT  B00005ML71  B000068NSX  \\\n",
       "reviewerID                                                              \n",
       "A00625243BI8W1SSZNLMD         NaN         NaN         NaN         NaN   \n",
       "A10044ECXDUVKS                NaN         NaN         NaN         NaN   \n",
       "A102MU6ZC9H1N6                NaN         NaN         NaN         NaN   \n",
       "A109JTUZXO61UY                NaN         NaN         NaN         NaN   \n",
       "A109ME7C09HM2M                NaN         NaN         NaN         NaN   \n",
       "\n",
       "asin                   B000068NTU  B000068NVI  B000068NW5  B000068NZC  \\\n",
       "reviewerID                                                              \n",
       "A00625243BI8W1SSZNLMD         NaN         NaN         NaN         NaN   \n",
       "A10044ECXDUVKS                NaN         NaN         NaN         NaN   \n",
       "A102MU6ZC9H1N6                NaN         NaN         NaN         NaN   \n",
       "A109JTUZXO61UY                NaN         NaN         NaN         NaN   \n",
       "A109ME7C09HM2M                NaN         NaN         NaN         NaN   \n",
       "\n",
       "asin                   B000068NZG  B000068O1N     ...      B00EPWAQS0  \\\n",
       "reviewerID                                        ...                   \n",
       "A00625243BI8W1SSZNLMD         NaN         NaN     ...             NaN   \n",
       "A10044ECXDUVKS                NaN         NaN     ...             NaN   \n",
       "A102MU6ZC9H1N6                NaN         NaN     ...             NaN   \n",
       "A109JTUZXO61UY                NaN         NaN     ...             NaN   \n",
       "A109ME7C09HM2M                NaN         NaN     ...             NaN   \n",
       "\n",
       "asin                   B00EQDITGO  B00F2PKRJW  B00FXKIG5I  B00GTSM8FW  \\\n",
       "reviewerID                                                              \n",
       "A00625243BI8W1SSZNLMD         NaN         NaN         NaN         NaN   \n",
       "A10044ECXDUVKS                NaN         NaN         NaN         NaN   \n",
       "A102MU6ZC9H1N6                NaN         NaN         NaN         NaN   \n",
       "A109JTUZXO61UY                NaN         NaN         NaN         NaN   \n",
       "A109ME7C09HM2M                NaN         NaN         NaN         NaN   \n",
       "\n",
       "asin                   B00H02C9TG  B00HFRXACG  B00IZCSW3M  B00J4TBMVO  \\\n",
       "reviewerID                                                              \n",
       "A00625243BI8W1SSZNLMD         NaN         NaN         NaN         NaN   \n",
       "A10044ECXDUVKS                NaN         NaN         NaN         NaN   \n",
       "A102MU6ZC9H1N6                NaN         NaN         NaN         NaN   \n",
       "A109JTUZXO61UY                NaN         NaN         NaN         NaN   \n",
       "A109ME7C09HM2M                NaN         NaN         NaN         NaN   \n",
       "\n",
       "asin                   B00JBIVXGC  \n",
       "reviewerID                         \n",
       "A00625243BI8W1SSZNLMD         NaN  \n",
       "A10044ECXDUVKS                NaN  \n",
       "A102MU6ZC9H1N6                NaN  \n",
       "A109JTUZXO61UY                NaN  \n",
       "A109ME7C09HM2M                NaN  \n",
       "\n",
       "[5 rows x 900 columns]"
      ]
     },
     "execution_count": 58,
     "metadata": {},
     "output_type": "execute_result"
    }
   ],
   "source": [
    "Review_Matix = df.pivot_table(index='reviewerID',columns='asin',values='overall')\n",
    "Review_Matix.head(5)"
   ]
  },
  {
   "cell_type": "markdown",
   "metadata": {},
   "source": [
    "So we have our matrix of who bought what, we need to find now some products the have a large amount of ratings so the we can compare them - and determine the correclation between them. This will show if they are similar."
   ]
  },
  {
   "cell_type": "code",
   "execution_count": 59,
   "metadata": {
    "collapsed": false
   },
   "outputs": [
    {
     "data": {
      "text/html": [
       "<div>\n",
       "<table border=\"1\" class=\"dataframe\">\n",
       "  <thead>\n",
       "    <tr style=\"text-align: right;\">\n",
       "      <th></th>\n",
       "      <th>overall</th>\n",
       "      <th>num of ratings</th>\n",
       "    </tr>\n",
       "    <tr>\n",
       "      <th>asin</th>\n",
       "      <th></th>\n",
       "      <th></th>\n",
       "    </tr>\n",
       "  </thead>\n",
       "  <tbody>\n",
       "    <tr>\n",
       "      <th>B003VWJ2K8</th>\n",
       "      <td>4.687117</td>\n",
       "      <td>163</td>\n",
       "    </tr>\n",
       "    <tr>\n",
       "      <th>B0002E1G5C</th>\n",
       "      <td>4.580420</td>\n",
       "      <td>143</td>\n",
       "    </tr>\n",
       "    <tr>\n",
       "      <th>B0002F7K7Y</th>\n",
       "      <td>4.620690</td>\n",
       "      <td>116</td>\n",
       "    </tr>\n",
       "    <tr>\n",
       "      <th>B003VWKPHC</th>\n",
       "      <td>4.649123</td>\n",
       "      <td>114</td>\n",
       "    </tr>\n",
       "    <tr>\n",
       "      <th>B0002H0A3S</th>\n",
       "      <td>4.655914</td>\n",
       "      <td>93</td>\n",
       "    </tr>\n",
       "    <tr>\n",
       "      <th>B0002CZVXM</th>\n",
       "      <td>4.500000</td>\n",
       "      <td>74</td>\n",
       "    </tr>\n",
       "    <tr>\n",
       "      <th>B0006NDF8A</th>\n",
       "      <td>4.492958</td>\n",
       "      <td>71</td>\n",
       "    </tr>\n",
       "    <tr>\n",
       "      <th>B0009G1E0K</th>\n",
       "      <td>4.492754</td>\n",
       "      <td>69</td>\n",
       "    </tr>\n",
       "    <tr>\n",
       "      <th>B0002E2KPC</th>\n",
       "      <td>4.500000</td>\n",
       "      <td>68</td>\n",
       "    </tr>\n",
       "    <tr>\n",
       "      <th>B0002GLDQM</th>\n",
       "      <td>4.373134</td>\n",
       "      <td>67</td>\n",
       "    </tr>\n",
       "  </tbody>\n",
       "</table>\n",
       "</div>"
      ],
      "text/plain": [
       "             overall  num of ratings\n",
       "asin                                \n",
       "B003VWJ2K8  4.687117             163\n",
       "B0002E1G5C  4.580420             143\n",
       "B0002F7K7Y  4.620690             116\n",
       "B003VWKPHC  4.649123             114\n",
       "B0002H0A3S  4.655914              93\n",
       "B0002CZVXM  4.500000              74\n",
       "B0006NDF8A  4.492958              71\n",
       "B0009G1E0K  4.492754              69\n",
       "B0002E2KPC  4.500000              68\n",
       "B0002GLDQM  4.373134              67"
      ]
     },
     "execution_count": 59,
     "metadata": {},
     "output_type": "execute_result"
    }
   ],
   "source": [
    "ratings.sort_values('num of ratings',ascending=False).head(10)"
   ]
  },
  {
   "cell_type": "markdown",
   "metadata": {},
   "source": [
    "Noe lets choose two of the product keys. Let just say the top two products "
   ]
  },
  {
   "cell_type": "code",
   "execution_count": 60,
   "metadata": {
    "collapsed": false
   },
   "outputs": [
    {
     "data": {
      "text/plain": [
       "reviewerID\n",
       "A00625243BI8W1SSZNLMD    NaN\n",
       "A10044ECXDUVKS           NaN\n",
       "A102MU6ZC9H1N6           5.0\n",
       "A109JTUZXO61UY           NaN\n",
       "A109ME7C09HM2M           NaN\n",
       "Name: B003VWJ2K8, dtype: float64"
      ]
     },
     "execution_count": 60,
     "metadata": {},
     "output_type": "execute_result"
    }
   ],
   "source": [
    "Product_1_user_ratings = Review_Matix['B003VWJ2K8']\n",
    "Product_2_user_ratings = Review_Matix['B0002E1G5C']\n",
    "Product_1_user_ratings.head()"
   ]
  },
  {
   "cell_type": "markdown",
   "metadata": {},
   "source": [
    "So we need to clean the NaN values as they are no use to us. We can then use corrwith() method to get correlations between two pandas series:"
   ]
  },
  {
   "cell_type": "markdown",
   "metadata": {},
   "source": [
    "First we create the correlation table for the two data sets. And then we apply the Drop NaN method to remove the unwanted NaN records."
   ]
  },
  {
   "cell_type": "code",
   "execution_count": 61,
   "metadata": {
    "collapsed": false
   },
   "outputs": [
    {
     "name": "stdout",
     "output_type": "stream",
     "text": [
      "product 1\n"
     ]
    },
    {
     "data": {
      "text/plain": [
       "asin\n",
       "1384719342         NaN\n",
       "B00004Y2UT         NaN\n",
       "B00005ML71         NaN\n",
       "B000068NSX         NaN\n",
       "B000068NTU         NaN\n",
       "B000068NVI         NaN\n",
       "B000068NW5    0.478091\n",
       "B000068NZC         NaN\n",
       "B000068NZG         NaN\n",
       "B000068O1N         NaN\n",
       "dtype: float64"
      ]
     },
     "execution_count": 61,
     "metadata": {},
     "output_type": "execute_result"
    }
   ],
   "source": [
    "Product_1_corr = Review_Matix.corrwith(Product_1_user_ratings)\n",
    "Product_2_corr  = Review_Matix.corrwith(Product_2_user_ratings)\n",
    "\n",
    "#check one of the result sets.\n",
    "print 'product 1'\n",
    "Product_1_corr.head(10)"
   ]
  },
  {
   "cell_type": "markdown",
   "metadata": {},
   "source": [
    "So we need to remove the NaN values and then sort the data to get a good idea of what has the cloest corelation."
   ]
  },
  {
   "cell_type": "code",
   "execution_count": 62,
   "metadata": {
    "collapsed": false
   },
   "outputs": [
    {
     "data": {
      "text/html": [
       "<div>\n",
       "<table border=\"1\" class=\"dataframe\">\n",
       "  <thead>\n",
       "    <tr style=\"text-align: right;\">\n",
       "      <th></th>\n",
       "      <th>Correlation</th>\n",
       "    </tr>\n",
       "    <tr>\n",
       "      <th>asin</th>\n",
       "      <th></th>\n",
       "    </tr>\n",
       "  </thead>\n",
       "  <tbody>\n",
       "    <tr>\n",
       "      <th>B000068NW5</th>\n",
       "      <td>0.478091</td>\n",
       "    </tr>\n",
       "    <tr>\n",
       "      <th>B0002CZSJO</th>\n",
       "      <td>0.050965</td>\n",
       "    </tr>\n",
       "    <tr>\n",
       "      <th>B0002CZUUG</th>\n",
       "      <td>-0.254824</td>\n",
       "    </tr>\n",
       "    <tr>\n",
       "      <th>B0002CZVW8</th>\n",
       "      <td>-0.500000</td>\n",
       "    </tr>\n",
       "    <tr>\n",
       "      <th>B0002CZVXM</th>\n",
       "      <td>1.000000</td>\n",
       "    </tr>\n",
       "  </tbody>\n",
       "</table>\n",
       "</div>"
      ],
      "text/plain": [
       "            Correlation\n",
       "asin                   \n",
       "B000068NW5     0.478091\n",
       "B0002CZSJO     0.050965\n",
       "B0002CZUUG    -0.254824\n",
       "B0002CZVW8    -0.500000\n",
       "B0002CZVXM     1.000000"
      ]
     },
     "execution_count": 62,
     "metadata": {},
     "output_type": "execute_result"
    }
   ],
   "source": [
    "Product_1_corr_final = pd.DataFrame(Product_1_corr,columns=['Correlation'])\n",
    "Product_1_corr_final.dropna(inplace=True)\n",
    "Product_1_corr_final.head()"
   ]
  },
  {
   "cell_type": "markdown",
   "metadata": {},
   "source": [
    "Now if we sort the dataframe by correlation, we should get the most similar items, however note that we get some results that don't really make sense. This is because there are a lot of items only bought once by users who also bought product_2."
   ]
  },
  {
   "cell_type": "code",
   "execution_count": 63,
   "metadata": {
    "collapsed": false
   },
   "outputs": [
    {
     "data": {
      "text/html": [
       "<div>\n",
       "<table border=\"1\" class=\"dataframe\">\n",
       "  <thead>\n",
       "    <tr style=\"text-align: right;\">\n",
       "      <th></th>\n",
       "      <th>Correlation</th>\n",
       "    </tr>\n",
       "    <tr>\n",
       "      <th>asin</th>\n",
       "      <th></th>\n",
       "    </tr>\n",
       "  </thead>\n",
       "  <tbody>\n",
       "    <tr>\n",
       "      <th>B00BU9KCXK</th>\n",
       "      <td>1.0</td>\n",
       "    </tr>\n",
       "    <tr>\n",
       "      <th>B0035LCFRW</th>\n",
       "      <td>1.0</td>\n",
       "    </tr>\n",
       "    <tr>\n",
       "      <th>B000A6GY1I</th>\n",
       "      <td>1.0</td>\n",
       "    </tr>\n",
       "    <tr>\n",
       "      <th>B0002GMGYA</th>\n",
       "      <td>1.0</td>\n",
       "    </tr>\n",
       "    <tr>\n",
       "      <th>B000CD3QY2</th>\n",
       "      <td>1.0</td>\n",
       "    </tr>\n",
       "  </tbody>\n",
       "</table>\n",
       "</div>"
      ],
      "text/plain": [
       "            Correlation\n",
       "asin                   \n",
       "B00BU9KCXK          1.0\n",
       "B0035LCFRW          1.0\n",
       "B000A6GY1I          1.0\n",
       "B0002GMGYA          1.0\n",
       "B000CD3QY2          1.0"
      ]
     },
     "execution_count": 63,
     "metadata": {},
     "output_type": "execute_result"
    }
   ],
   "source": [
    "#sort the table\n",
    "\n",
    "Product_1_corr_final.sort_values('Correlation',ascending=False).head(5)"
   ]
  },
  {
   "cell_type": "markdown",
   "metadata": {},
   "source": [
    "So what we want to do is to merge the correlation data frame withe the ratings data frame that we created earlier that shows the number of reviews and then filter on proiducts that have a lot of reviews."
   ]
  },
  {
   "cell_type": "code",
   "execution_count": 64,
   "metadata": {
    "collapsed": false
   },
   "outputs": [
    {
     "data": {
      "text/html": [
       "<div>\n",
       "<table border=\"1\" class=\"dataframe\">\n",
       "  <thead>\n",
       "    <tr style=\"text-align: right;\">\n",
       "      <th></th>\n",
       "      <th>Correlation</th>\n",
       "      <th>num of ratings</th>\n",
       "    </tr>\n",
       "    <tr>\n",
       "      <th>asin</th>\n",
       "      <th></th>\n",
       "      <th></th>\n",
       "    </tr>\n",
       "  </thead>\n",
       "  <tbody>\n",
       "    <tr>\n",
       "      <th>B000068NW5</th>\n",
       "      <td>0.478091</td>\n",
       "      <td>52</td>\n",
       "    </tr>\n",
       "    <tr>\n",
       "      <th>B0002CZSJO</th>\n",
       "      <td>0.050965</td>\n",
       "      <td>28</td>\n",
       "    </tr>\n",
       "    <tr>\n",
       "      <th>B0002CZUUG</th>\n",
       "      <td>-0.254824</td>\n",
       "      <td>22</td>\n",
       "    </tr>\n",
       "    <tr>\n",
       "      <th>B0002CZVW8</th>\n",
       "      <td>-0.500000</td>\n",
       "      <td>6</td>\n",
       "    </tr>\n",
       "    <tr>\n",
       "      <th>B0002CZVXM</th>\n",
       "      <td>1.000000</td>\n",
       "      <td>74</td>\n",
       "    </tr>\n",
       "  </tbody>\n",
       "</table>\n",
       "</div>"
      ],
      "text/plain": [
       "            Correlation  num of ratings\n",
       "asin                                   \n",
       "B000068NW5     0.478091              52\n",
       "B0002CZSJO     0.050965              28\n",
       "B0002CZUUG    -0.254824              22\n",
       "B0002CZVW8    -0.500000               6\n",
       "B0002CZVXM     1.000000              74"
      ]
     },
     "execution_count": 64,
     "metadata": {},
     "output_type": "execute_result"
    }
   ],
   "source": [
    "Product_1_corr_final = Product_1_corr_final.join(ratings['num of ratings'])\n",
    "Product_1_corr_final.head()"
   ]
  },
  {
   "cell_type": "markdown",
   "metadata": {},
   "source": [
    "Now sort the values and filter out some of the single reviews and it seems a bit better.."
   ]
  },
  {
   "cell_type": "code",
   "execution_count": 65,
   "metadata": {
    "collapsed": false
   },
   "outputs": [
    {
     "data": {
      "text/html": [
       "<div>\n",
       "<table border=\"1\" class=\"dataframe\">\n",
       "  <thead>\n",
       "    <tr style=\"text-align: right;\">\n",
       "      <th></th>\n",
       "      <th>Correlation</th>\n",
       "      <th>num of ratings</th>\n",
       "    </tr>\n",
       "    <tr>\n",
       "      <th>asin</th>\n",
       "      <th></th>\n",
       "      <th></th>\n",
       "    </tr>\n",
       "  </thead>\n",
       "  <tbody>\n",
       "    <tr>\n",
       "      <th>B00BU9KCXK</th>\n",
       "      <td>1.000000</td>\n",
       "      <td>21</td>\n",
       "    </tr>\n",
       "    <tr>\n",
       "      <th>B004XNK7AI</th>\n",
       "      <td>1.000000</td>\n",
       "      <td>65</td>\n",
       "    </tr>\n",
       "    <tr>\n",
       "      <th>B0002CZVXM</th>\n",
       "      <td>1.000000</td>\n",
       "      <td>74</td>\n",
       "    </tr>\n",
       "    <tr>\n",
       "      <th>B003VWJ2K8</th>\n",
       "      <td>1.000000</td>\n",
       "      <td>163</td>\n",
       "    </tr>\n",
       "    <tr>\n",
       "      <th>B0002E1H9W</th>\n",
       "      <td>1.000000</td>\n",
       "      <td>21</td>\n",
       "    </tr>\n",
       "    <tr>\n",
       "      <th>B0002GMGYA</th>\n",
       "      <td>1.000000</td>\n",
       "      <td>58</td>\n",
       "    </tr>\n",
       "    <tr>\n",
       "      <th>B0002F7K7Y</th>\n",
       "      <td>0.877778</td>\n",
       "      <td>116</td>\n",
       "    </tr>\n",
       "    <tr>\n",
       "      <th>B0002GWFEQ</th>\n",
       "      <td>0.666667</td>\n",
       "      <td>33</td>\n",
       "    </tr>\n",
       "    <tr>\n",
       "      <th>B0026RB0G8</th>\n",
       "      <td>0.630196</td>\n",
       "      <td>31</td>\n",
       "    </tr>\n",
       "    <tr>\n",
       "      <th>B001PGXHX0</th>\n",
       "      <td>0.617213</td>\n",
       "      <td>58</td>\n",
       "    </tr>\n",
       "  </tbody>\n",
       "</table>\n",
       "</div>"
      ],
      "text/plain": [
       "            Correlation  num of ratings\n",
       "asin                                   \n",
       "B00BU9KCXK     1.000000              21\n",
       "B004XNK7AI     1.000000              65\n",
       "B0002CZVXM     1.000000              74\n",
       "B003VWJ2K8     1.000000             163\n",
       "B0002E1H9W     1.000000              21\n",
       "B0002GMGYA     1.000000              58\n",
       "B0002F7K7Y     0.877778             116\n",
       "B0002GWFEQ     0.666667              33\n",
       "B0026RB0G8     0.630196              31\n",
       "B001PGXHX0     0.617213              58"
      ]
     },
     "execution_count": 65,
     "metadata": {},
     "output_type": "execute_result"
    }
   ],
   "source": [
    "Product_1_corr_final[Product_1_corr_final['num of ratings']>20].sort_values('Correlation',ascending=False).head(10)"
   ]
  },
  {
   "cell_type": "markdown",
   "metadata": {},
   "source": [
    "So we can now see by looking at the above table that people who reviewed and liked product 1 also liked the products listed above with a 1.0 value for a strong correlation. 0 is no correlation."
   ]
  },
  {
   "cell_type": "markdown",
   "metadata": {},
   "source": [
    "Now we can condese the steps and create same for product 2 also."
   ]
  },
  {
   "cell_type": "code",
   "execution_count": 53,
   "metadata": {
    "collapsed": false
   },
   "outputs": [
    {
     "data": {
      "text/html": [
       "<div>\n",
       "<table border=\"1\" class=\"dataframe\">\n",
       "  <thead>\n",
       "    <tr style=\"text-align: right;\">\n",
       "      <th></th>\n",
       "      <th>Correlation</th>\n",
       "      <th>num of ratings</th>\n",
       "    </tr>\n",
       "    <tr>\n",
       "      <th>asin</th>\n",
       "      <th></th>\n",
       "      <th></th>\n",
       "    </tr>\n",
       "  </thead>\n",
       "  <tbody>\n",
       "    <tr>\n",
       "      <th>B0002KZE7C</th>\n",
       "      <td>1.000000</td>\n",
       "      <td>25</td>\n",
       "    </tr>\n",
       "    <tr>\n",
       "      <th>B0002D0E8S</th>\n",
       "      <td>1.000000</td>\n",
       "      <td>41</td>\n",
       "    </tr>\n",
       "    <tr>\n",
       "      <th>B00154OJOI</th>\n",
       "      <td>1.000000</td>\n",
       "      <td>25</td>\n",
       "    </tr>\n",
       "    <tr>\n",
       "      <th>B000VJJQUU</th>\n",
       "      <td>1.000000</td>\n",
       "      <td>29</td>\n",
       "    </tr>\n",
       "    <tr>\n",
       "      <th>B004XNK7AI</th>\n",
       "      <td>1.000000</td>\n",
       "      <td>65</td>\n",
       "    </tr>\n",
       "    <tr>\n",
       "      <th>B0002E1G5C</th>\n",
       "      <td>1.000000</td>\n",
       "      <td>143</td>\n",
       "    </tr>\n",
       "    <tr>\n",
       "      <th>B003B01QR2</th>\n",
       "      <td>0.878310</td>\n",
       "      <td>22</td>\n",
       "    </tr>\n",
       "    <tr>\n",
       "      <th>B0002GXF8Q</th>\n",
       "      <td>0.866025</td>\n",
       "      <td>33</td>\n",
       "    </tr>\n",
       "    <tr>\n",
       "      <th>B0002E2KPC</th>\n",
       "      <td>0.712845</td>\n",
       "      <td>68</td>\n",
       "    </tr>\n",
       "    <tr>\n",
       "      <th>B0002E2GMY</th>\n",
       "      <td>0.707107</td>\n",
       "      <td>23</td>\n",
       "    </tr>\n",
       "  </tbody>\n",
       "</table>\n",
       "</div>"
      ],
      "text/plain": [
       "            Correlation  num of ratings\n",
       "asin                                   \n",
       "B0002KZE7C     1.000000              25\n",
       "B0002D0E8S     1.000000              41\n",
       "B00154OJOI     1.000000              25\n",
       "B000VJJQUU     1.000000              29\n",
       "B004XNK7AI     1.000000              65\n",
       "B0002E1G5C     1.000000             143\n",
       "B003B01QR2     0.878310              22\n",
       "B0002GXF8Q     0.866025              33\n",
       "B0002E2KPC     0.712845              68\n",
       "B0002E2GMY     0.707107              23"
      ]
     },
     "execution_count": 53,
     "metadata": {},
     "output_type": "execute_result"
    }
   ],
   "source": [
    "Product_2_corr_final = pd.DataFrame(Product_2_corr,columns=['Correlation'])\n",
    "Product_2_corr_final.dropna(inplace=True)\n",
    "Product_2_corr_final = Product_2_corr_final.join(ratings['num of ratings'])\n",
    "Product_2_corr_final[Product_2_corr_final['num of ratings']>20].sort_values('Correlation',ascending=False).head(10)"
   ]
  },
  {
   "cell_type": "markdown",
   "metadata": {},
   "source": [
    "And there we have a system where we can recommend a product to a user based on other users ratings....."
   ]
  }
 ],
 "metadata": {
  "kernelspec": {
   "display_name": "Python 2",
   "language": "python",
   "name": "python2"
  },
  "language_info": {
   "codemirror_mode": {
    "name": "ipython",
    "version": 2
   },
   "file_extension": ".py",
   "mimetype": "text/x-python",
   "name": "python",
   "nbconvert_exporter": "python",
   "pygments_lexer": "ipython2",
   "version": "2.7.11"
  }
 },
 "nbformat": 4,
 "nbformat_minor": 0
}
